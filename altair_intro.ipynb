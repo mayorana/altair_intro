{
 "cells": [
  {
   "cell_type": "code",
   "execution_count": null,
   "metadata": {},
   "outputs": [],
   "source": [
    "import google.auth\n",
    "import gcsfs\n",
    "\n",
    "import pandas as pd\n",
    "import numpy as np\n",
    "import altair as alt\n",
    "from altair_saver import save\n",
    "\n",
    "from IPython.display import Image, display\n",
    "\n",
    "from hospitalization import get_hospitalization_data"
   ]
  },
  {
   "cell_type": "code",
   "execution_count": null,
   "metadata": {},
   "outputs": [],
   "source": [
    "# get credentials\n",
    "credentials, project_id = google.auth.default(\n",
    "scopes=[\"https://www.googleapis.com/auth/cloud-platform\"]\n",
    ")\n",
    "gcp_fs = gcsfs.GCSFileSystem()"
   ]
  },
  {
   "cell_type": "markdown",
   "metadata": {},
   "source": [
    "# 0. Introduction"
   ]
  },
  {
   "cell_type": "markdown",
   "metadata": {},
   "source": [
    "Why is altair cool?\n",
    "\n",
    "altair is a declarative visualization library based on Vega. The key idea is that the altair grammar enables to declare links between _data columns_ and _visual encoding channels_.\n",
    "\n",
    "What is Vega? Vega is a declarative language for creating, saving, and sharing interactive visualization designs. With Vega, you can describe the visual appearance and interactive behavior of a visualization in a JSON format. Altair is the python API of the higher-level language Vega-Lite. Check out some beautiful and motivating Vega [examples](https://vega.github.io/vega/examples/)."
   ]
  },
  {
   "cell_type": "markdown",
   "metadata": {},
   "source": [
    "Let's start with something real simple. I'm going to load a public data file from GCP, but if it's not working for you or the GCP file system is not set up, you can go to this [link](https://console.cloud.google.com/storage/browser/_details/covid-public-data/csv/incidence_20210225.csv), download the .csv and use `pd.read_csv` to read the dataframe."
   ]
  },
  {
   "cell_type": "code",
   "execution_count": null,
   "metadata": {},
   "outputs": [],
   "source": [
    "filename = 'covid-public-data/csv/incidence_20210225.csv'\n",
    "with gcp_fs.open(filename) as file_obj:\n",
    "    source = pd.read_csv(file_obj, index_col=0)"
   ]
  },
  {
   "cell_type": "code",
   "execution_count": null,
   "metadata": {},
   "outputs": [],
   "source": [
    "source['date'] = pd.to_datetime(source['date'])"
   ]
  },
  {
   "cell_type": "markdown",
   "metadata": {},
   "source": [
    "I will create a smaller dataframe for UK incidence in the last few months."
   ]
  },
  {
   "cell_type": "code",
   "execution_count": null,
   "metadata": {},
   "outputs": [],
   "source": [
    "UK_incidence = source[(source.region=='UK') & (source.date >= '2020-12-01')]"
   ]
  },
  {
   "cell_type": "code",
   "execution_count": null,
   "metadata": {},
   "outputs": [],
   "source": [
    "UK_incidence.head()"
   ]
  },
  {
   "cell_type": "markdown",
   "metadata": {},
   "source": [
    "# 1. Building blocks for an altair chart ('10)\n",
    "_built on this tutorial: https://altair-viz.github.io/getting_started/starting.html_"
   ]
  },
  {
   "cell_type": "markdown",
   "metadata": {},
   "source": [
    "The fundamental object in Altair is the `Chart`, which takes a dataframe as a single argument:"
   ]
  },
  {
   "cell_type": "code",
   "execution_count": null,
   "metadata": {},
   "outputs": [],
   "source": [
    "chart = alt.Chart(UK_incidence)"
   ]
  },
  {
   "cell_type": "markdown",
   "metadata": {},
   "source": [
    "Taking the chart object, we can now specify how we would like the data to be visualized. This is done by selecting a `mark_*` attribute of the chart object. The most used marks are the followings:\n",
    "\n",
    "* `mark_area()`\tA filled area plot\n",
    "* `mark_bar()`\tA bar plot\n",
    "* `mark_circle()`\tA scatter plot with filled circles\n",
    "* `mark_line()`\tA line plot\n",
    "* `mark_point(`)\tA scatter plot with configurable point shapes\n",
    "* `mark_rect()`\tA filled rectangle, used for heatmaps\n",
    "* `mark_rule()`\tA vertical or horizontal line spanning the axis\n",
    "* `mark_text()`\tA scatter plot with points represented by text\n",
    "\n",
    "Read more about the marks [here](https://altair-viz.github.io/user_guide/marks.html)."
   ]
  },
  {
   "cell_type": "code",
   "execution_count": null,
   "metadata": {},
   "outputs": [],
   "source": [
    "alt.Chart(UK_incidence).mark_bar()"
   ]
  },
  {
   "cell_type": "markdown",
   "metadata": {},
   "source": [
    "This visualizations consists of one bar per row in the dataset, all plotted on top of each other, since we have not yet specified positions for these points."
   ]
  },
  {
   "cell_type": "markdown",
   "metadata": {},
   "source": [
    "To visually separate the points, we can map various [encoding channels](https://altair-viz.github.io/user_guide/encoding.html) to columns in the dataset. For example, we could encode the variable _date_ of the data with the x channel, which represents the x-axis position of the points. This can be done straightforwardly via the `Chart.encode()` method.\n",
    "\n",
    "Some important encodings are:\n",
    "* `x`\n",
    "* `y`\n",
    "* `color`\n",
    "* `size`\n",
    "* `column`\n",
    "* `row`"
   ]
  },
  {
   "cell_type": "code",
   "execution_count": null,
   "metadata": {},
   "outputs": [],
   "source": [
    "alt.Chart(\n",
    "    UK_incidence\n",
    ").mark_bar().encode(\n",
    "    x=\"date\",\n",
    "    y=\"pop_mid\",\n",
    ")"
   ]
  },
  {
   "cell_type": "markdown",
   "metadata": {},
   "source": [
    "We can also exchange the barplots for lines with simply changing the mark type."
   ]
  },
  {
   "cell_type": "code",
   "execution_count": null,
   "metadata": {},
   "outputs": [],
   "source": [
    "alt.Chart(\n",
    "    UK_incidence\n",
    ").mark_line().encode(\n",
    "    x=\"date\",\n",
    "    y=\"pop_mid\",\n",
    ")"
   ]
  },
  {
   "cell_type": "markdown",
   "metadata": {},
   "source": [
    "The `encode()` method builds a key-value mapping between encoding channels (such as x, y, color, shape, size, etc.) to columns in the dataset, accessed by column name."
   ]
  },
  {
   "cell_type": "markdown",
   "metadata": {},
   "source": [
    "The details of any mapping depend on the type of the data. Altair recognizes four main data types:\n",
    "    \n",
    "* quantitative\t`Q`\ta continuous real-valued quantity\n",
    "* ordinal\t`O`\ta discrete ordered quantity\n",
    "* nominal\t`N`\ta discrete unordered category\n",
    "* temporal\t`T`\ta time or date value"
   ]
  },
  {
   "cell_type": "markdown",
   "metadata": {},
   "source": [
    "If types are not specified for data input as a DataFrame, Altair defaults to quantitative for any numeric data, temporal for date/time data, and nominal for string data, but that these defaults are by no means always the correct choice.\n",
    "\n",
    "We can change the types by appending `:Q`/`:O`/`:N`/`:T` to the column names in the encoding specification. Take a look how the chart format changes when we change the type of the `date` column to nominal! The data type also has certain implications on way axis labels, color scales, etc are handled."
   ]
  },
  {
   "cell_type": "code",
   "execution_count": null,
   "metadata": {},
   "outputs": [],
   "source": [
    "alt.Chart(\n",
    "    UK_incidence\n",
    ").mark_bar().encode(\n",
    "    x=\"date:O\",\n",
    "    y=\"pop_mid:Q\",\n",
    ")"
   ]
  },
  {
   "cell_type": "markdown",
   "metadata": {},
   "source": [
    "Instead of using shortcuts to define the x and y encoding channels, you can call the whole object so you can customize its properties better."
   ]
  },
  {
   "cell_type": "code",
   "execution_count": null,
   "metadata": {},
   "outputs": [],
   "source": [
    "my_first_chart = alt.Chart(\n",
    "    UK_incidence,\n",
    "    title='My chart title'\n",
    ").mark_bar().encode(\n",
    "    x=alt.X(\"date\", title = 'My date axis'),\n",
    "    y=alt.Y(\"pop_mid\", title = 'Y axis with the daily incidence', axis=alt.Axis(format='s'))\n",
    ")\n",
    "my_first_chart"
   ]
  },
  {
   "cell_type": "markdown",
   "metadata": {},
   "source": [
    "Now you can save this chart by calling"
   ]
  },
  {
   "cell_type": "code",
   "execution_count": null,
   "metadata": {},
   "outputs": [],
   "source": [
    "my_first_chart.save('my_first_chart.png', scale_factor=4.0)"
   ]
  },
  {
   "cell_type": "markdown",
   "metadata": {},
   "source": [
    "# 2. Tidy data, colors and facets ('10)"
   ]
  },
  {
   "cell_type": "markdown",
   "metadata": {},
   "source": [
    "Altair works best with [tidy data](http://vita.had.co.nz/papers/tidy-data.html) also known as long format: _Tidy datasets are easy to manipulate, model and visualize, and have a specific structure: each variable is a column, each observation is a row, and each type of observational unit is a table._\n",
    "\n",
    "The incidence data is already in long format, but we can convert it to wide to see the differences."
   ]
  },
  {
   "cell_type": "code",
   "execution_count": null,
   "metadata": {},
   "outputs": [],
   "source": [
    "incidence_wide = pd.pivot_table(\n",
    "    source,\n",
    "    values='pop_mid',\n",
    "    index=['date'],\n",
    "    columns=['region'], aggfunc=np.sum\n",
    ").reset_index()\n",
    "\n",
    "incidence_wide"
   ]
  },
  {
   "cell_type": "markdown",
   "metadata": {},
   "source": [
    "This sort of data would be much harder to use with Altair."
   ]
  },
  {
   "cell_type": "markdown",
   "metadata": {},
   "source": [
    "Now we can explore how to take advantage of the tidy format to use colors to plot several variables simultaneously."
   ]
  },
  {
   "cell_type": "code",
   "execution_count": null,
   "metadata": {},
   "outputs": [],
   "source": [
    "alt.Chart(\n",
    "    source,\n",
    "    title='My chart title'\n",
    ").mark_line().encode(\n",
    "    x=\"date\",\n",
    "    y=\"pop_mid\",\n",
    "    color='region'\n",
    ")"
   ]
  },
  {
   "cell_type": "markdown",
   "metadata": {},
   "source": [
    "Note that you can use the color as an encoding channel in the property `.encode()` or you can also specify the color in the `mark_*` property if you don't want to color by any of the variables."
   ]
  },
  {
   "cell_type": "markdown",
   "metadata": {},
   "source": [
    "We can also use facets (rows or columns) to plot several variables in separate subplots."
   ]
  },
  {
   "cell_type": "code",
   "execution_count": null,
   "metadata": {},
   "outputs": [],
   "source": [
    "Wales_Scotland_England_incidence = source[source.region.isin(['Wales', 'Scotland', 'England'])]\n",
    "\n",
    "alt.Chart(\n",
    "    Wales_Scotland_England_incidence,\n",
    "    title='My chart title'\n",
    ").mark_bar(color='orange').encode(\n",
    "    x='date',\n",
    "    y='pop_mid',\n",
    "    column='region'\n",
    ")"
   ]
  },
  {
   "cell_type": "code",
   "execution_count": null,
   "metadata": {},
   "outputs": [],
   "source": [
    "Wales_Scotland_England_incidence = source[source.region.isin(['Wales', 'Scotland', 'England'])]\n",
    "\n",
    "alt.Chart(\n",
    "    Wales_Scotland_England_incidence,\n",
    "    title='My chart title'\n",
    ").mark_bar().encode(\n",
    "    x='date',\n",
    "    y='pop_mid',\n",
    "    row='region'\n",
    ")"
   ]
  },
  {
   "cell_type": "markdown",
   "metadata": {},
   "source": [
    "If you don't need to have the same axis on all plots, you can add the `resolve_scale()` method at the end of your chart specification."
   ]
  },
  {
   "cell_type": "code",
   "execution_count": null,
   "metadata": {},
   "outputs": [],
   "source": [
    "Wales_Scotland_England_incidence = source[source.region.isin(['Wales', 'Scotland', 'England']) & (source.date >= '2020-12-01')]\n",
    "\n",
    "alt.Chart(\n",
    "    Wales_Scotland_England_incidence,\n",
    "    title='My chart title'\n",
    ").mark_bar().encode(\n",
    "    x='date',\n",
    "    y='pop_mid',\n",
    "    column='region'\n",
    ").resolve_scale(y='independent')"
   ]
  },
  {
   "cell_type": "markdown",
   "metadata": {},
   "source": [
    "One great thing in Altair is that you can easily combine multiple charts by using the following functions:\n",
    "    \n",
    "* `alt.hconcat()` for horizontal concatenation\n",
    "* `alt.vconcat()` for vertical concatentation\n",
    "* `alt.layer()` for layering\n",
    "\n",
    "Suppose you want to see the UK incidence on a linechart and England incidence in barcharts. We can create the two charts separately and then combine them with `alt.hconcat`."
   ]
  },
  {
   "cell_type": "code",
   "execution_count": null,
   "metadata": {},
   "outputs": [],
   "source": [
    "UK_line = alt.Chart(\n",
    "    UK_incidence,\n",
    "    title='UK incidence on a linechart'\n",
    ").mark_line(color='red').encode(\n",
    "    x=alt.X(\"date\", title = 'My date axis'),\n",
    "    y=alt.Y(\"pop_mid\", title = 'incidence', axis=alt.Axis(format='s')),\n",
    ")\n",
    "\n",
    "England_bars = alt.Chart(\n",
    "    Wales_Scotland_England_incidence[Wales_Scotland_England_incidence.region == 'England'],\n",
    "    title='England incidence on a barchart'\n",
    ").mark_bar().encode(\n",
    "    x=alt.X(\"date\", title = 'My date axis'),\n",
    "    y=alt.Y(\"pop_mid\", title = 'incidence', axis=alt.Axis(format='s')),\n",
    ")\n",
    "\n",
    "alt.hconcat(UK_line, England_bars)"
   ]
  },
  {
   "cell_type": "markdown",
   "metadata": {},
   "source": [
    "Or you can also overlay the above two charts to see the UK incidence line and the England incidence bars on the same plot."
   ]
  },
  {
   "cell_type": "code",
   "execution_count": null,
   "metadata": {},
   "outputs": [],
   "source": [
    "alt.layer(UK_line, England_bars)"
   ]
  },
  {
   "cell_type": "markdown",
   "metadata": {},
   "source": [
    "Alternatively, we can also use the following shortcuts for concatenation:\n",
    "    \n",
    "* `alt.hconcat()` for horizontal concatenation --> `|`\n",
    "* `alt.vconcat()` for vertical concatentation --> `&`\n",
    "* `alt.layer()` for layering --> `+`"
   ]
  },
  {
   "cell_type": "code",
   "execution_count": null,
   "metadata": {},
   "outputs": [],
   "source": [
    "UK_line + England_bars"
   ]
  },
  {
   "cell_type": "markdown",
   "metadata": {},
   "source": [
    "Another useful example where we might want to layer charts is adding confidence intervals."
   ]
  },
  {
   "cell_type": "code",
   "execution_count": null,
   "metadata": {},
   "outputs": [],
   "source": [
    "UK_incidence.head()"
   ]
  },
  {
   "cell_type": "code",
   "execution_count": null,
   "metadata": {},
   "outputs": [],
   "source": [
    "base = alt.Chart(\n",
    "    UK_incidence,\n",
    "    title='UK incidence on a linechart'\n",
    ")\n",
    "\n",
    "UK_line = base.mark_line(color='red').encode(\n",
    "    x=alt.X(\"date\", title = 'My date axis'),\n",
    "    y=alt.Y(\"pop_mid\", title = 'incidence', axis=alt.Axis(format='s')),\n",
    ")\n",
    "\n",
    "UK_CI = base.mark_area(color='red', opacity=0.4).encode(\n",
    "    x=alt.X(\"date\", title = 'My date axis'),\n",
    "    y='pop_low',\n",
    "    y2='pop_up'\n",
    ")\n",
    "\n",
    "display(UK_line | UK_CI)\n",
    "\n",
    "display(UK_line + UK_CI)"
   ]
  },
  {
   "cell_type": "markdown",
   "metadata": {},
   "source": [
    "Another feature that comes handy when building composite charts is Altair's [own syntax](https://altair-viz.github.io/user_guide/transform/index.html) for data transformations / filtering. There's a lot you can do without doing your transformations in pandas, but let's stick to the most basic one: you can filter your data."
   ]
  },
  {
   "cell_type": "code",
   "execution_count": null,
   "metadata": {},
   "outputs": [],
   "source": [
    "my_basic_chart = alt.Chart(\n",
    "    Wales_Scotland_England_incidence # passing the whole dataset\n",
    ").mark_line().encode(\n",
    "    x=alt.X(\"date\", title = 'My date axis'),\n",
    "    y=alt.Y(\"pop_mid\", axis=alt.Axis(format='s')),\n",
    "    color='region'\n",
    ")\n",
    "\n",
    "my_basic_chart.transform_filter(\n",
    "    (alt.datum.region == 'Scotland') | (alt.datum.region == 'Wales')\n",
    ").properties(\n",
    "    title='I filtered Scotland and Wales only'\n",
    ")\n"
   ]
  },
  {
   "cell_type": "markdown",
   "metadata": {},
   "source": [
    "## Now that you know everything, let's try to create some charts! ('20)"
   ]
  },
  {
   "cell_type": "markdown",
   "metadata": {},
   "source": [
    "in the next two cells, we load some data to explore"
   ]
  },
  {
   "cell_type": "code",
   "execution_count": null,
   "metadata": {},
   "outputs": [],
   "source": [
    "filename = 'covid-public-data/csv/RevisedStats/prevalence_history_20210228.csv'\n",
    "with gcp_fs.open(filename) as file_obj:\n",
    "    prev_df = pd.read_csv(file_obj)\n",
    "    \n",
    "nhs_bed_occupancy = get_hospitalization_data()"
   ]
  },
  {
   "cell_type": "code",
   "execution_count": null,
   "metadata": {},
   "outputs": [],
   "source": [
    "prevalence_and_hospitalization = prev_df.merge(\n",
    "    nhs_bed_occupancy,\n",
    "    how='left',\n",
    "    on = ['date', 'region']\n",
    ")\n",
    "\n",
    "prevalence_and_hospitalization_per_date = prevalence_and_hospitalization.groupby('date')[['active_cases', 'hospital_cases']].sum().reset_index()\n",
    "prevalence_and_hospitalization_per_region = prevalence_and_hospitalization[\n",
    "    prevalence_and_hospitalization.date >= '2021-02-01'\n",
    "]"
   ]
  },
  {
   "cell_type": "markdown",
   "metadata": {},
   "source": [
    "__Exercise 1__ Make a linechart of prevalence over time, where the lines are colored by region! (Use the dataset `prev_df`) <br>\n",
    "__Exercise 2__ Make a barchart of prevalence over time in your three favorite regions where the bars are colored by the size of prevalence and regions are on separate plots (faceted by rows) (hint: use `.resolve_scale(y='independent')` to set different scales for the rows).<br>\n",
    "__Exercise 3A__ Use the dataset `prevalence_and_hospitalization_per_region`, which contains the number of active cases and hospitalized cases for each date and region since the beginning of February. Plot the number of active cases against the number of hospitalized cases with a scatterplot, colored by region! <br>\n",
    "__Exercise 3B__ Take the plot from the previous exercise and add a tooltip! You can use the encoding channel `tooltip` to reveal some information about the datapoints when you hover over them. In this case, you can show the date of each point. <br>"
   ]
  },
  {
   "cell_type": "markdown",
   "metadata": {},
   "source": [
    "## Bonus: interactivity!"
   ]
  },
  {
   "cell_type": "code",
   "execution_count": null,
   "metadata": {},
   "outputs": [],
   "source": [
    "prev_hosp_inc = prevalence_and_hospitalization.merge(\n",
    "    source.assign(date = source['date'].astype(str)),\n",
    "    on = ['date', 'region'],\n",
    "    how='left'\n",
    ")"
   ]
  },
  {
   "cell_type": "code",
   "execution_count": null,
   "metadata": {},
   "outputs": [],
   "source": [
    "selection = alt.selection_multi(fields=['region'])\n",
    "color = alt.condition(selection,\n",
    "                      alt.Color('region:N', legend=None),\n",
    "                      alt.value('lightgray'))\n",
    "\n",
    "base = alt.Chart(prev_hosp_inc).mark_line().encode(\n",
    "    x='date:T',\n",
    "    color=color,\n",
    ").properties(\n",
    "    width=250,\n",
    "    height=250\n",
    ")\n",
    "\n",
    "legend = alt.Chart(prev_hosp_inc).mark_bar().encode(\n",
    "    y=alt.Y('region:N', axis=alt.Axis(orient='right')),\n",
    "    color=color\n",
    ").add_selection(\n",
    "    selection\n",
    ")\n",
    "\n",
    "base.encode(y='active_cases') | base.encode(y='hospital_cases') | legend\n"
   ]
  }
 ],
 "metadata": {
  "hide_input": false,
  "kernelspec": {
   "display_name": "altair_intro",
   "language": "python",
   "name": "altair_intro"
  },
  "language_info": {
   "codemirror_mode": {
    "name": "ipython",
    "version": 3
   },
   "file_extension": ".py",
   "mimetype": "text/x-python",
   "name": "python",
   "nbconvert_exporter": "python",
   "pygments_lexer": "ipython3",
   "version": "3.8.3"
  }
 },
 "nbformat": 4,
 "nbformat_minor": 4
}
